{
 "cells": [
  {
   "cell_type": "code",
   "execution_count": 1,
   "id": "7a7202fb",
   "metadata": {},
   "outputs": [],
   "source": [
    "import numpy as np\n",
    "import pandas as pd\n",
    "import matplotlib.pyplot as mpl\n",
    "import seaborn as sns"
   ]
  },
  {
   "cell_type": "code",
   "execution_count": 2,
   "id": "1e874b74",
   "metadata": {},
   "outputs": [
    {
     "data": {
      "text/html": [
       "<div>\n",
       "<style scoped>\n",
       "    .dataframe tbody tr th:only-of-type {\n",
       "        vertical-align: middle;\n",
       "    }\n",
       "\n",
       "    .dataframe tbody tr th {\n",
       "        vertical-align: top;\n",
       "    }\n",
       "\n",
       "    .dataframe thead th {\n",
       "        text-align: right;\n",
       "    }\n",
       "</style>\n",
       "<table border=\"1\" class=\"dataframe\">\n",
       "  <thead>\n",
       "    <tr style=\"text-align: right;\">\n",
       "      <th></th>\n",
       "      <th>TV</th>\n",
       "      <th>Radio</th>\n",
       "      <th>Newspaper</th>\n",
       "      <th>Sales</th>\n",
       "    </tr>\n",
       "  </thead>\n",
       "  <tbody>\n",
       "    <tr>\n",
       "      <th>0</th>\n",
       "      <td>230.1</td>\n",
       "      <td>37.8</td>\n",
       "      <td>69.2</td>\n",
       "      <td>22.1</td>\n",
       "    </tr>\n",
       "    <tr>\n",
       "      <th>1</th>\n",
       "      <td>44.5</td>\n",
       "      <td>39.3</td>\n",
       "      <td>45.1</td>\n",
       "      <td>10.4</td>\n",
       "    </tr>\n",
       "    <tr>\n",
       "      <th>2</th>\n",
       "      <td>17.2</td>\n",
       "      <td>45.9</td>\n",
       "      <td>69.3</td>\n",
       "      <td>12.0</td>\n",
       "    </tr>\n",
       "    <tr>\n",
       "      <th>3</th>\n",
       "      <td>151.5</td>\n",
       "      <td>41.3</td>\n",
       "      <td>58.5</td>\n",
       "      <td>16.5</td>\n",
       "    </tr>\n",
       "    <tr>\n",
       "      <th>4</th>\n",
       "      <td>180.8</td>\n",
       "      <td>10.8</td>\n",
       "      <td>58.4</td>\n",
       "      <td>17.9</td>\n",
       "    </tr>\n",
       "  </tbody>\n",
       "</table>\n",
       "</div>"
      ],
      "text/plain": [
       "      TV  Radio  Newspaper  Sales\n",
       "0  230.1   37.8       69.2   22.1\n",
       "1   44.5   39.3       45.1   10.4\n",
       "2   17.2   45.9       69.3   12.0\n",
       "3  151.5   41.3       58.5   16.5\n",
       "4  180.8   10.8       58.4   17.9"
      ]
     },
     "execution_count": 2,
     "metadata": {},
     "output_type": "execute_result"
    }
   ],
   "source": [
    "dataset=pd.read_csv(\"advertising.csv\")\n",
    "dataset.head()"
   ]
  },
  {
   "cell_type": "code",
   "execution_count": 3,
   "id": "b3d8b242",
   "metadata": {},
   "outputs": [
    {
     "data": {
      "text/plain": [
       "(200, 4)"
      ]
     },
     "execution_count": 3,
     "metadata": {},
     "output_type": "execute_result"
    }
   ],
   "source": [
    "dataset.shape"
   ]
  },
  {
   "cell_type": "code",
   "execution_count": 4,
   "id": "ab3e0d4c",
   "metadata": {},
   "outputs": [
    {
     "data": {
      "text/html": [
       "<div>\n",
       "<style scoped>\n",
       "    .dataframe tbody tr th:only-of-type {\n",
       "        vertical-align: middle;\n",
       "    }\n",
       "\n",
       "    .dataframe tbody tr th {\n",
       "        vertical-align: top;\n",
       "    }\n",
       "\n",
       "    .dataframe thead th {\n",
       "        text-align: right;\n",
       "    }\n",
       "</style>\n",
       "<table border=\"1\" class=\"dataframe\">\n",
       "  <thead>\n",
       "    <tr style=\"text-align: right;\">\n",
       "      <th></th>\n",
       "      <th>TV</th>\n",
       "      <th>Radio</th>\n",
       "      <th>Newspaper</th>\n",
       "      <th>Sales</th>\n",
       "    </tr>\n",
       "  </thead>\n",
       "  <tbody>\n",
       "    <tr>\n",
       "      <th>count</th>\n",
       "      <td>200.000000</td>\n",
       "      <td>200.000000</td>\n",
       "      <td>200.000000</td>\n",
       "      <td>200.000000</td>\n",
       "    </tr>\n",
       "    <tr>\n",
       "      <th>mean</th>\n",
       "      <td>147.042500</td>\n",
       "      <td>23.264000</td>\n",
       "      <td>30.554000</td>\n",
       "      <td>15.130500</td>\n",
       "    </tr>\n",
       "    <tr>\n",
       "      <th>std</th>\n",
       "      <td>85.854236</td>\n",
       "      <td>14.846809</td>\n",
       "      <td>21.778621</td>\n",
       "      <td>5.283892</td>\n",
       "    </tr>\n",
       "    <tr>\n",
       "      <th>min</th>\n",
       "      <td>0.700000</td>\n",
       "      <td>0.000000</td>\n",
       "      <td>0.300000</td>\n",
       "      <td>1.600000</td>\n",
       "    </tr>\n",
       "    <tr>\n",
       "      <th>25%</th>\n",
       "      <td>74.375000</td>\n",
       "      <td>9.975000</td>\n",
       "      <td>12.750000</td>\n",
       "      <td>11.000000</td>\n",
       "    </tr>\n",
       "    <tr>\n",
       "      <th>50%</th>\n",
       "      <td>149.750000</td>\n",
       "      <td>22.900000</td>\n",
       "      <td>25.750000</td>\n",
       "      <td>16.000000</td>\n",
       "    </tr>\n",
       "    <tr>\n",
       "      <th>75%</th>\n",
       "      <td>218.825000</td>\n",
       "      <td>36.525000</td>\n",
       "      <td>45.100000</td>\n",
       "      <td>19.050000</td>\n",
       "    </tr>\n",
       "    <tr>\n",
       "      <th>max</th>\n",
       "      <td>296.400000</td>\n",
       "      <td>49.600000</td>\n",
       "      <td>114.000000</td>\n",
       "      <td>27.000000</td>\n",
       "    </tr>\n",
       "  </tbody>\n",
       "</table>\n",
       "</div>"
      ],
      "text/plain": [
       "               TV       Radio   Newspaper       Sales\n",
       "count  200.000000  200.000000  200.000000  200.000000\n",
       "mean   147.042500   23.264000   30.554000   15.130500\n",
       "std     85.854236   14.846809   21.778621    5.283892\n",
       "min      0.700000    0.000000    0.300000    1.600000\n",
       "25%     74.375000    9.975000   12.750000   11.000000\n",
       "50%    149.750000   22.900000   25.750000   16.000000\n",
       "75%    218.825000   36.525000   45.100000   19.050000\n",
       "max    296.400000   49.600000  114.000000   27.000000"
      ]
     },
     "execution_count": 4,
     "metadata": {},
     "output_type": "execute_result"
    }
   ],
   "source": [
    "dataset.describe()"
   ]
  },
  {
   "cell_type": "code",
   "execution_count": 5,
   "id": "af7e2819",
   "metadata": {},
   "outputs": [
    {
     "data": {
      "image/png": "[encoded data removed]",
      "text/plain": [
       "<Figure size 540x180 with 3 Axes>"
      ]
     },
     "metadata": {
      "needs_background": "light"
     },
     "output_type": "display_data"
    }
   ],
   "source": [
    "sns.pairplot(dataset,x_vars=['TV','Newspaper','Radio'],y_vars='Sales',kind='scatter')\n",
    "mpl.show()"
   ]
  },
  {
   "cell_type": "code",
   "execution_count": 9,
   "id": "757a8e00",
   "metadata": {},
   "outputs": [
    {
     "data": {
      "text/plain": [
       "<AxesSubplot:ylabel='Frequency'>"
      ]
     },
     "execution_count": 9,
     "metadata": {},
     "output_type": "execute_result"
    },
    {
     "data": {
      "image/png": "[encoded data removed]",
      "text/plain": [
       "<Figure size 432x288 with 1 Axes>"
      ]
     },
     "metadata": {
      "needs_background": "light"
     },
     "output_type": "display_data"
    }
   ],
   "source": [
    "dataset['TV'].plot.hist(bins=10)"
   ]
  },
  {
   "cell_type": "code",
   "execution_count": 10,
   "id": "54e64557",
   "metadata": {},
   "outputs": [
    {
     "data": {
      "text/plain": [
       "<AxesSubplot:ylabel='Frequency'>"
      ]
     },
     "execution_count": 10,
     "metadata": {},
     "output_type": "execute_result"
    },
    {
     "data": {
      "image/png": "[encoded data removed]",
      "text/plain": [
       "<Figure size 432x288 with 1 Axes>"
      ]
     },
     "metadata": {
      "needs_background": "light"
     },
     "output_type": "display_data"
    }
   ],
   "source": [
    "dataset['Radio'].plot.hist(bins=10,color =\"purple\",xlabel=\"Radio\")"
   ]
  },
  {
   "cell_type": "code",
   "execution_count": 11,
   "id": "7160a5e7",
   "metadata": {},
   "outputs": [
    {
     "data": {
      "text/plain": [
       "<AxesSubplot:ylabel='Frequency'>"
      ]
     },
     "execution_count": 11,
     "metadata": {},
     "output_type": "execute_result"
    },
    {
     "data": {
      "image/png": "[encoded data removed]",
      "text/plain": [
       "<Figure size 432x288 with 1 Axes>"
      ]
     },
     "metadata": {
      "needs_background": "light"
     },
     "output_type": "display_data"
    }
   ],
   "source": [
    "dataset['Newspaper'].plot.hist(bins=10,color =\"pink\",xlabel=\"Radio\")"
   ]
  },
  {
   "cell_type": "code",
   "execution_count": 14,
   "id": "2f06ad86",
   "metadata": {},
   "outputs": [
    {
     "data": {
      "image/png": "[encoded data removed]",
      "text/plain": [
       "<Figure size 432x288 with 2 Axes>"
      ]
     },
     "metadata": {
      "needs_background": "light"
     },
     "output_type": "display_data"
    }
   ],
   "source": [
    "sns.heatmap(dataset.corr(),annot=True)\n",
    "mpl.show()"
   ]
  },
  {
   "cell_type": "markdown",
   "id": "259777ca",
   "metadata": {},
   "source": [
    "Model training"
   ]
  },
  {
   "cell_type": "code",
   "execution_count": 15,
   "id": "1d34c780",
   "metadata": {},
   "outputs": [],
   "source": [
    "from sklearn.model_selection import train_test_split\n",
    "x_train,x_test,y_train,y_test=train_test_split(dataset[['TV']],dataset[['Sales']],test_size=0.3,random_state=0)"
   ]
  },
  {
   "cell_type": "code",
   "execution_count": 16,
   "id": "f81b6236",
   "metadata": {},
   "outputs": [
    {
     "name": "stdout",
     "output_type": "stream",
     "text": [
      "        TV\n",
      "131  265.2\n",
      "96   197.6\n",
      "181  218.5\n",
      "19   147.3\n",
      "153  171.3\n",
      "..     ...\n",
      "67   139.3\n",
      "192   17.2\n",
      "117   76.4\n",
      "47   239.9\n",
      "172   19.6\n",
      "\n",
      "[140 rows x 1 columns]\n"
     ]
    }
   ],
   "source": [
    "print(x_train)"
   ]
  },
  {
   "cell_type": "code",
   "execution_count": 17,
   "id": "4e9fe806",
   "metadata": {},
   "outputs": [
    {
     "name": "stdout",
     "output_type": "stream",
     "text": [
      "     Sales\n",
      "131   17.7\n",
      "96    16.7\n",
      "181   17.2\n",
      "19    14.6\n",
      "153   16.0\n",
      "..     ...\n",
      "67    13.4\n",
      "192    5.9\n",
      "117    9.4\n",
      "47    23.2\n",
      "172    7.6\n",
      "\n",
      "[140 rows x 1 columns]\n"
     ]
    }
   ],
   "source": [
    "print(y_train)"
   ]
  },
  {
   "cell_type": "code",
   "execution_count": 18,
   "id": "70001d5e",
   "metadata": {},
   "outputs": [
    {
     "name": "stdout",
     "output_type": "stream",
     "text": [
      "        TV\n",
      "18    69.2\n",
      "170   50.0\n",
      "107   90.4\n",
      "98   289.7\n",
      "177  170.2\n",
      "182   56.2\n",
      "5      8.7\n",
      "146  240.1\n",
      "12    23.8\n",
      "152  197.6\n",
      "61   261.3\n",
      "125   87.2\n",
      "180  156.6\n",
      "154  187.8\n",
      "80    76.4\n",
      "7    120.2\n",
      "33   265.6\n",
      "130    0.7\n",
      "37    74.7\n",
      "74   213.4\n",
      "183  287.6\n",
      "145  140.3\n",
      "45   175.1\n",
      "159  131.7\n",
      "60    53.5\n",
      "123  123.1\n",
      "179  165.6\n",
      "185  205.0\n",
      "122  224.0\n",
      "44    25.1\n",
      "16    67.8\n",
      "55   198.9\n",
      "150  280.7\n",
      "111  241.7\n",
      "22    13.2\n",
      "189   18.7\n",
      "129   59.6\n",
      "4    180.8\n",
      "83    68.4\n",
      "106   25.0\n",
      "134   36.9\n",
      "66    31.5\n",
      "26   142.9\n",
      "113  209.6\n",
      "168  215.4\n",
      "63   102.7\n",
      "8      8.6\n",
      "75    16.9\n",
      "118  125.7\n",
      "143  104.6\n",
      "71   109.8\n",
      "124  229.5\n",
      "184  253.8\n",
      "97   184.9\n",
      "149   44.7\n",
      "24    62.3\n",
      "30   292.9\n",
      "160  172.5\n",
      "40   202.5\n",
      "56     7.3\n"
     ]
    }
   ],
   "source": [
    "print(x_test)"
   ]
  },
  {
   "cell_type": "code",
   "execution_count": 19,
   "id": "ea4ed622",
   "metadata": {},
   "outputs": [
    {
     "name": "stdout",
     "output_type": "stream",
     "text": [
      "     Sales\n",
      "18    11.3\n",
      "170    8.4\n",
      "107   12.0\n",
      "98    25.4\n",
      "177   16.7\n",
      "182    8.7\n",
      "5      7.2\n",
      "146   18.2\n",
      "12     9.2\n",
      "152   16.6\n",
      "61    24.2\n",
      "125   10.6\n",
      "180   15.5\n",
      "154   20.6\n",
      "80    11.8\n",
      "7     13.2\n",
      "33    17.4\n",
      "130    1.6\n",
      "37    14.7\n",
      "74    17.0\n",
      "183   26.2\n",
      "145   10.3\n",
      "45    16.1\n",
      "159   12.9\n",
      "60     8.1\n",
      "123   15.2\n",
      "179   17.6\n",
      "185   22.6\n",
      "122   16.6\n",
      "44     8.5\n",
      "16    12.5\n",
      "55    23.7\n",
      "150   16.1\n",
      "111   21.8\n",
      "22     5.6\n",
      "189    6.7\n",
      "129    9.7\n",
      "4     17.9\n",
      "83    13.6\n",
      "106    7.2\n",
      "134   10.8\n",
      "66    11.0\n",
      "26    15.0\n",
      "113   20.9\n",
      "168   17.1\n",
      "63    14.0\n",
      "8      4.8\n",
      "75     8.7\n",
      "118   15.9\n",
      "143   10.4\n",
      "71    12.4\n",
      "124   19.7\n",
      "184   17.6\n",
      "97    20.5\n",
      "149   10.1\n",
      "24     9.7\n",
      "30    21.4\n",
      "160   16.4\n",
      "40    16.6\n",
      "56     5.5\n"
     ]
    }
   ],
   "source": [
    "print(y_test)"
   ]
  },
  {
   "cell_type": "code",
   "execution_count": 20,
   "id": "34538ad5",
   "metadata": {},
   "outputs": [
    {
     "data": {
      "text/plain": [
       "LinearRegression()"
      ]
     },
     "execution_count": 20,
     "metadata": {},
     "output_type": "execute_result"
    }
   ],
   "source": [
    "from sklearn.linear_model import LinearRegression\n",
    "model=LinearRegression()\n",
    "model.fit(x_train,y_train)"
   ]
  },
  {
   "cell_type": "code",
   "execution_count": 23,
   "id": "7a0356d1",
   "metadata": {},
   "outputs": [
    {
     "name": "stdout",
     "output_type": "stream",
     "text": [
      "[[10.93127621]\n",
      " [ 9.88042193]\n",
      " [12.09159447]\n",
      " [22.99968079]\n",
      " [16.45920756]\n",
      " [10.21976029]\n",
      " [ 7.6199906 ]\n",
      " [20.28497391]\n",
      " [ 8.4464437 ]\n",
      " [17.95886418]\n",
      " [21.44529217]\n",
      " [11.91645209]\n",
      " [15.71485245]\n",
      " [17.42249065]\n",
      " [11.32534656]\n",
      " [13.72260788]\n",
      " [21.68063975]\n",
      " [ 7.18213465]\n",
      " [11.23230217]\n",
      " [18.82362968]\n",
      " [22.88474361]\n",
      " [14.82272095]\n",
      " [16.72739433]\n",
      " [14.35202581]\n",
      " [10.07198391]\n",
      " [13.88133066]\n",
      " [16.20744039]\n",
      " [18.36388094]\n",
      " [19.40378881]\n",
      " [ 8.51759529]\n",
      " [10.85465142]\n",
      " [18.03001578]\n",
      " [22.50709285]\n",
      " [20.3725451 ]\n",
      " [ 7.86628457]\n",
      " [ 8.16731053]\n",
      " [10.40584907]\n",
      " [17.03936669]\n",
      " [10.88749061]\n",
      " [ 8.51212209]\n",
      " [ 9.16343282]\n",
      " [ 8.86788005]\n",
      " [14.96502414]\n",
      " [18.61564811]\n",
      " [18.93309367]\n",
      " [12.76479799]\n",
      " [ 7.6145174 ]\n",
      " [ 8.06879294]\n",
      " [14.02363385]\n",
      " [12.86878878]\n",
      " [13.15339515]\n",
      " [19.70481478]\n",
      " [21.03480222]\n",
      " [17.26376787]\n",
      " [ 9.59034237]\n",
      " [10.55362545]\n",
      " [23.17482317]\n",
      " [16.58509115]\n",
      " [18.22705095]\n",
      " [ 7.54336581]]\n"
     ]
    }
   ],
   "source": [
    "predict_data=model.predict(x_test)\n",
    "print(predict_data)"
   ]
  },
  {
   "cell_type": "code",
   "execution_count": 25,
   "id": "d74b6c94",
   "metadata": {},
   "outputs": [
    {
     "data": {
      "text/plain": [
       "array([[0.05473199]])"
      ]
     },
     "execution_count": 25,
     "metadata": {},
     "output_type": "execute_result"
    }
   ],
   "source": [
    "model.coef_"
   ]
  },
  {
   "cell_type": "code",
   "execution_count": 26,
   "id": "eb86645a",
   "metadata": {},
   "outputs": [
    {
     "data": {
      "text/plain": [
       "array([7.14382225])"
      ]
     },
     "execution_count": 26,
     "metadata": {},
     "output_type": "execute_result"
    }
   ],
   "source": [
    "model.intercept_"
   ]
  },
  {
   "cell_type": "code",
   "execution_count": 27,
   "id": "fa8e789c",
   "metadata": {},
   "outputs": [
    {
     "data": {
      "text/plain": [
       "[<matplotlib.lines.Line2D at 0x1bc81cf4700>]"
      ]
     },
     "execution_count": 27,
     "metadata": {},
     "output_type": "execute_result"
    },
    {
     "data": {
      "image/png": "[encoded data removed]",
      "text/plain": [
       "<Figure size 432x288 with 1 Axes>"
      ]
     },
     "metadata": {
      "needs_background": "light"
     },
     "output_type": "display_data"
    }
   ],
   "source": [
    "mpl.plot(predict_data)"
   ]
  },
  {
   "cell_type": "code",
   "execution_count": 28,
   "id": "6ef60cc0",
   "metadata": {},
   "outputs": [
    {
     "data": {
      "text/plain": [
       "10.931275958"
      ]
     },
     "execution_count": 28,
     "metadata": {},
     "output_type": "execute_result"
    }
   ],
   "source": [
    "0.05473199 *69.2 +7.14382225"
   ]
  },
  {
   "cell_type": "markdown",
   "id": "d7351439",
   "metadata": {},
   "source": [
    "The Trained Model predicts successfully."
   ]
  },
  {
   "cell_type": "code",
   "execution_count": null,
   "id": "b9a00c73",
   "metadata": {},
   "outputs": [],
   "source": []
  }
 ],
 "metadata": {
  "kernelspec": {
   "display_name": "Python 3 (ipykernel)",
   "language": "python",
   "name": "python3"
  },
  "language_info": {
   "codemirror_mode": {
    "name": "ipython",
    "version": 3
   },
   "file_extension": ".py",
   "mimetype": "text/x-python",
   "name": "python",
   "nbconvert_exporter": "python",
   "pygments_lexer": "ipython3",
   "version": "3.9.12"
  }
 },
 "nbformat": 4,
 "nbformat_minor": 5
}
